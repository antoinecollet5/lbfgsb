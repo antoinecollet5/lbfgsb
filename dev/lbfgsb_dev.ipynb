{
 "cells": [
  {
   "cell_type": "markdown",
   "metadata": {},
   "source": [
    "Autre implementation:\n",
    "https://github.com/stephenbeckr/L-BFGS-B-C/blob/master/src/subalgorithms.c"
   ]
  },
  {
   "cell_type": "markdown",
   "metadata": {},
   "source": [
    "L'implementation d'un L-BFGS-B n'est pas triviale. Si l'article de fondateur est très didactique et explicite, le code de référence, l'algorithme 778 est écrit en Fortran 77 et possède de nombreuses optimizations rendent sa compréhension, sa modification ou encore sa reproduction difficile. Pour des raisons de flexibilité, nous avons choisit une réimplementation en Python, s'appuyant sur numpy et scipy. Le code produit, bien que plus gourmand en mémoire, donne globallement les mêmes résultats (nombre d'évaluations de fonction, gradient et justesse des résultats). Ajouter les 10 cas tests.\n",
    "\n",
    "Nous précisons ici deux éléments importants.\n",
    "En particulier, deux éléments initialement non présent dans l'article original ne sont que vaguement évoqué dans les articles de mise à jour. La denrière ayant été faite en 2011, portant le code dans sa version 3.0.\n",
    "\n",
    "L'intégralité du code est facile à comprendre. Il n'y a qu'un point un peu plus compliqué, et nous le détaillons ici:"
   ]
  },
  {
   "cell_type": "markdown",
   "metadata": {},
   "source": [
    "# Optimization 1\n",
    "\n",
    "La première otpimization intervient dans la recherche des points de cauchy généralisés. Dans la section 4 de [1], Le calcul de la dérivée seconde $f''$ fait intervenir la matrice $\\mathbf{M}$ \n",
    "\n",
    "$$\n",
    "f'' = \\theta \\mathbf{d}^{\\mathrm{T}}\\mathbf{d} - \\mathbf{d}^{\\mathrm{T}}\\mathbf{WMW}^{T}\\mathbf{d}\n",
    "$$"
   ]
  },
  {
   "cell_type": "markdown",
   "metadata": {},
   "source": [
    "En suivant la notation du papier mais en omettant l'indice $k$, la matrice $\\mathbf{M}$ est définie par l'équation 3.4,  $\\mathbf{M} = \\begin{pmatrix} - \\mathbf{D} & \\mathbf{L}^{\\mathrm{T}} \\\\ \\mathbf{L} & \\theta \\mathbf{S}_{T}\\mathbf{S} \\end{pmatrix}^{-1}$ et a une dimension (2m, 2m), m étant le nombre de corrections apportées à l'approximation du Hessien. Cette matrice n'est pas définie positive mais ces quatres blocks le sont. On peut donc effectuer une factorization de cholesky à partir des sous blocks.\n"
   ]
  },
  {
   "cell_type": "markdown",
   "metadata": {},
   "source": [
    "However, the factorization is not explained. Thus, we would like to provide some details about how to achieve it. Recall the $\\mathbf{LDL}^{\\mathrm{T}}$ factorization for a block matrix:\n",
    "\n",
    "$$\\mathbf{K} = \\begin{pmatrix} \\mathbf{K}_{11} & \\mathbf{K}_{21}^{\\mathrm{T}} \\\\ \\mathbf{K}_{21} & \\mathbf{K}_{22} \\end{pmatrix}\n",
    " =\\begin{pmatrix} 1 & 0 \\\\ \\mathbf{K}_{21} \\mathbf{K}_{11}^{-1} & 1 \\end{pmatrix}\n",
    "  \\begin{pmatrix} \\mathbf{K}_{11} & 0 \\\\ 0 & \\mathbf{P} \\end{pmatrix}\n",
    "  \\begin{pmatrix} 1 & \\mathbf{K}_{11}^{-1} \\mathbf{K}_{21}^{\\mathrm{T}} \\\\ 0 & 1 \\end{pmatrix}$$\n",
    "where $\\mathbf{P} = \\mathbf{K}_{22} - \\mathbf{K}_{21} \\mathbf{K}_{11}^{-1} \\mathbf{K}_{21}^{\\mathrm{T}}$ is the Schur complement. Clearly one need $\\mathbf{K}_{11}^{-1}$ and $\\mathbf{P}^{-1}$ to solve using this factorization.\n",
    "\n",
    "Substituting $\\mathbf{K}_{11} = \\mathbf{L}_{11} \\mathbf{L}_{11}^{\\mathrm{T}}$ and $\\mathbf{P} = \\mathbf{L}_P \\mathbf{L}_P^{\\mathrm{T}}$ into the factorization above, we obtain the Cholesky factorization [1]:\n",
    "$$\\begin{aligned}\n",
    "\\mathbf{K} & =\\begin{pmatrix}\n",
    "\\mathbb{1} & 0\\\\\n",
    "\\mathbf{K}_{21} \\left( \\mathbf{L}_{11} \\mathbf{L}_{11}^{\\mathrm{T}}\\right)^{-1} & \\mathbb{1}\n",
    "\\end{pmatrix}\\begin{pmatrix}\n",
    "\\mathbf{L}_{11} \\mathbf{L}_{11}^{\\mathrm{T}} & 0\\\\\n",
    "0 & \\mathbf{L}_P \\mathbf{L}_P^{\\mathrm{T}}\n",
    "\\end{pmatrix}\\begin{pmatrix}\n",
    "\\mathbb{1} & \\left( \\mathbf{L}_{11} \\mathbf{L}_{11}^{\\mathrm{T}}\\right)^{-1} \\mathbf{K}_{21}^{\\mathrm{T}}\\\\\n",
    "0 & \\mathbb{1}\n",
    "\\end{pmatrix}\\\\\n",
    " & =\\left(\\begin{pmatrix}\n",
    "\\mathbb{1} & 0\\\\\n",
    "\\mathbf{K}_{21}\\left( \\mathbf{L}_{11} \\mathbf{L}_{11}^{\\mathrm{T}}\\right)^{-1} & \\mathbb{1}\n",
    "\\end{pmatrix}\\begin{pmatrix}\n",
    "\\mathbf{L}_{11} & 0\\\\\n",
    "0 & \\mathbf{L}_P\n",
    "\\end{pmatrix}\\right)\\left(\\begin{pmatrix}\n",
    "\\mathbf{L}_{11}^{\\mathrm{T}} & 0\\\\\n",
    "0 & \\mathbf{L}_P^{\\mathrm{T}}\n",
    "\\end{pmatrix}\\begin{pmatrix}\n",
    "\\mathbb{1} & \\left( \\mathbf{L}_{11} \\mathbf{L}_{11}^{\\mathrm{T}}\\right)^{-1} \\mathbf{K}_{21}^{\\mathrm{T}}\\\\\n",
    "0 & \\mathbb{1}\n",
    "\\end{pmatrix}\\right)\\\\\n",
    " & =\\begin{pmatrix}\n",
    "\\mathbf{L}_{11} & 0\\\\\n",
    "\\mathbf{K}_{21}\\mathbf{L}_{11}^{-T} & \\mathbf{L}_P\n",
    "\\end{pmatrix}\\begin{pmatrix}\n",
    "\\mathbf{L}_{11}^{\\mathrm{T}} & \\mathbf{L}_{11}^{-1} \\mathbf{K}_{21}^{\\mathrm{T}}\\\\\n",
    "0 & \\mathbf{L}_P^{\\mathrm{T}}\n",
    "\\end{pmatrix} = \\mathbf{L}_{K} \\mathbf{L}_{K}^{\\mathrm{T}} .\n",
    "\\end{aligned}\n",
    "$$"
   ]
  },
  {
   "cell_type": "markdown",
   "metadata": {},
   "source": [
    "As a consequence, $\\mathbf{D}$ being a diagonal matrix, $M$ can be factorized as:\n",
    "$$\n",
    "\n",
    "\\mathbf{M} = \\mathbf{L}_{M} \\mathbf{L}_{M}^{\\mathrm{T}} = \\begin{pmatrix}\n",
    "\\mathbf{D}^{1/2} & 0\\\\\n",
    "-\\mathbf{L}_{21}\\mathbf{D}^{-1/2} & \\mathbf{J}\n",
    "\\end{pmatrix}\\begin{pmatrix}\n",
    "-\\mathbf{D}^{1/2} & \\mathbf{D}^{-1/2} \\mathbf{L}_{21}^{\\mathrm{T}}\\\\\n",
    "0 & \\mathbf{J}^{\\mathrm{T}}\n",
    "\\end{pmatrix} = \\mathbf{L}_{K} \\mathbf{L}_{K}^{\\mathrm{T}}\n",
    "\n",
    "$$"
   ]
  },
  {
   "cell_type": "markdown",
   "metadata": {},
   "source": [
    "with $\\mathbf{L}_{21}$ the lower triangle of the $\\theta \\mathbf{S}_{T}\\mathbf{S}$ cholesky factorization. And $\\mathbf{J}$ the lower triangle of $\\mathbf{JJ}^{\\mathrm{T}} = \\theta \\mathbf{S}_{T}\\mathbf{S} - \\mathbf{LD}^{-1} \\mathbf{L}^{\\mathrm{T}}$ also obtained by cholesky factorization.\n",
    "Then all operations involving a product with $\\mathbf{M}$ can be operated very easily by solving the linear system $Ax = B$ as previously explained in \"ADD REF\"."
   ]
  },
  {
   "cell_type": "markdown",
   "metadata": {},
   "source": [
    "# Optimization 2\n",
    "\n",
    "Section 5 of Byrd et al. [1995] describes three methods for performing the subspace minimization: direct primal, primal CG, and dual. \n",
    "As explained by Zhu et al. (1997), \"primal and dual can be implemented in a unified framework in which they are very similar; they require essentially the same amount of computation and perform equally well in practice\". As a consequence, the current L-BFGS-B code (887) uses only the primal method for subspace minimization. However, the resolution differs a bit from the original paper (recipe given in pages 11-12). Indeed, Zhu et al. 1997, Zhu et al (1997) explain that in eq . 5.11"
   ]
  },
  {
   "cell_type": "markdown",
   "metadata": {},
   "source": [
    "$$\n",
    "    \\hat{\\mathbf{d}}^{u} = \\dfrac{1}{\\theta}\\hat{\\mathbf{r}}^{c}+\\dfrac{1}{\\theta^{2}}\\mathbf{Z}^{\\mathrm{T}}\\mathbf{W}\\left(\\mathbf{I} - \\dfrac{1}{\\theta}\\mathbf{MW}^{\\mathrm{T}}\\mathbf{ZZ}^{\\mathrm{T}}\\mathbf{W}\\right)^{-1}\\mathbf{M} \\mathbf{W}^{\\mathrm{T}}\\mathbf{Z}\\hat{\\mathbf{r}}^{c}\n",
    "$$\n",
    "\n",
    "Can actually be written as \n",
    "\n",
    "$$\n",
    "    \\hat{\\mathbf{d}}^{u} = \\dfrac{1}{\\theta}\\hat{\\mathbf{r}}^{c}+\\dfrac{1}{\\theta^{2}}\\mathbf{Z}^{\\mathrm{T}}\\mathbf{W}\\mathbf{K}^{-1} \\mathbf{W}^{\\mathrm{T}}\\mathbf{Z}\\hat{\\mathbf{r}}^{c}\n",
    "$$\n",
    "\n",
    "where \n",
    "\n",
    "$$\n",
    "    \\mathbf{K}^{-1} = (\\mathbf{I} - \\dfrac{1}{\\theta}\\mathbf{MW}^{\\mathrm{T}}\\mathbf{ZZ}^{\\mathrm{T}}\\mathbf{W})^{-1}\\mathbf{M} \n",
    "\n",
    "$$\n",
    "\n",
    "and they remark that\n",
    "\n",
    "$$\n",
    "    \\mathbf{K} = \\begin{bmatrix} -\\mathbf{D} - \\dfrac{1}{\\theta}\\mathbf{Y}^{\\mathrm{T}}\\mathbf{ZZ}^{\\mathrm{T}}\\mathbf{Y}  & \\mathbf{L}_{A}^{\\mathrm{T}} - \\mathbf{R}_{Z}^{\\mathrm{T}} \\\\ \\mathbf{L}_{A} - \\mathbf{R}_{Z} & \\theta \\mathbf{S}^{\\mathrm{T}}\\mathbf{AA}^{\\mathrm{T}}\\mathbf{S} \\end{bmatrix}\n",
    "$$\n",
    "\n",
    "where $\\mathbf{L}_A$ is the strict lower triangle of $\\mathbf{S}^{\\mathrm{T}}\\mathbf{AA}^{\\mathrm{T}}\\mathbf{S}$ and $\\mathbf{R}_{Z}$ is the upper triangle of $\\mathbf{Y}^{\\mathrm{T}}\\mathbf{ZZ}^{\\mathrm{T}}\\mathbf{Y}$. Although this matrix is not positive definite, they claim it can be factorized symmetrically by using Cholesky factorizations of the submatrices, and we do so in the L-BFGS-B code. However, the factorization is not explained. \n",
    "\n",
    "- Unlike the previous one, we did not find any report detailing the factorization. We give it here.\n",
    "Thus, we would like to provide some details about how to achieve it."
   ]
  },
  {
   "cell_type": "markdown",
   "metadata": {},
   "source": [
    "L'approche est un peu différente du cas précédent, car le terme $\\mathbf{D} + \\dfrac{1}{\\theta}\\mathbf{Y}^{\\mathrm{T}}\\mathbf{ZZ}^{\\mathrm{T}}\\mathbf{Y}$ est défini positif et peut donc être factorisé, mais pas son opposé. La factorization sera donc de la forme $\\mathbf{L}_K\\mathbf{E}\\mathbf{L}_K^{T}$ avec $\\mathbf{E} = \\begin{pmatrix} -\\mathbf{I} & 0 \\\\ 0 & \\mathbf{I} \\end{pmatrix}$"
   ]
  },
  {
   "cell_type": "markdown",
   "metadata": {},
   "source": [
    "En notant utilisant la notation finale voulue:\n",
    "\n",
    "$$\n",
    "\\begin{aligned}\n",
    "\\mathbf{A} = \\mathbf{L}_\\mathrm{A}\\mathbf{E}\\mathbf{L}_{\\mathrm{A}}^{T} &= \\begin{pmatrix} \\mathbf{L}_{11} & 0 \\\\ \\mathbf{L}_{21} & \\mathbf{L}_{22} \\end{pmatrix} \\begin{pmatrix} \\mathbf{I} & \\mathbf{0} \\\\ \\mathbf{0} & -\\mathbf{I} \\end{pmatrix} \\begin{pmatrix} \\mathbf{L}_{11}^{\\mathrm{T}} & \\mathbf{L}_{21}^{\\mathrm{T}} \\\\ \\mathbf{0} & \\mathbf{L}_{22}^{\\mathrm{T}} \\end{pmatrix}\n",
    "\\\\\n",
    "&= \\begin{pmatrix} \\mathbf{L}_{11} \\mathbf{L}_{11}^{\\mathrm{T}} & \\mathbf{L}_{11} \\mathbf{L}_{21}^{\\mathrm{T}} \\\\ \\mathbf{L}_{21} \\mathbf{L}_{11}^{\\mathrm{T}}  & \\mathbf{L}_{21} \\mathbf{L}_{21}^{\\mathrm{T}} - \\mathbf{L}_{22} \\mathbf{L}_{22}^{\\mathrm{T}} \\end{pmatrix}^{\\mathrm{T}}\n",
    "\\end{aligned}\n",
    "$$"
   ]
  },
  {
   "cell_type": "markdown",
   "metadata": {},
   "source": [
    "Par identification, on obtient alors en trois étapes successives:\n",
    "\n",
    "- $\\mathbf{L}_{11}$ the lower triangle of the cholesky factorization of $\\mathbf{D} + \\dfrac{1}{\\theta}\\mathbf{Y}^{\\mathrm{T}}\\mathbf{ZZ}^{\\mathrm{T}}\\mathbf{Y}$"
   ]
  },
  {
   "cell_type": "markdown",
   "metadata": {},
   "source": [
    "- $\\mathbf{L}_{21} = \\left(\\mathbf{L}_{11}^{-1} \\left( \\mathbf{R}_{Z} - \\mathbf{L}_{A} \\right)^{\\mathrm{T}}\\right)^{T}$ "
   ]
  },
  {
   "cell_type": "markdown",
   "metadata": {},
   "source": [
    "- $\\mathbf{L}_{22}$ the lower triangle of the cholesky factorization of $\\theta \\mathbf{S}^{\\mathrm{T}}\\mathbf{AA}^{\\mathrm{T}}\\mathbf{S} + \\mathbf{L}_{21} \\mathbf{L}_{21}^{\\mathrm{T}}$"
   ]
  }
 ],
 "metadata": {
  "language_info": {
   "name": "python"
  },
  "orig_nbformat": 4
 },
 "nbformat": 4,
 "nbformat_minor": 2
}
